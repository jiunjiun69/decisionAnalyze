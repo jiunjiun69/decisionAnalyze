{
 "cells": [
  {
   "cell_type": "markdown",
   "metadata": {},
   "source": [
    "# 先將要使用的庫import"
   ]
  },
  {
   "cell_type": "code",
   "execution_count": 2,
   "metadata": {},
   "outputs": [],
   "source": [
    "import pandas as pd\n",
    "import numpy as np\n",
    "import tensorflow as tf\n",
    "import matplotlib.pyplot as plt\n",
    "\n",
    "import warnings \n",
    "warnings.filterwarnings('ignore')\n",
    "%matplotlib inline"
   ]
  },
  {
   "cell_type": "markdown",
   "metadata": {},
   "source": [
    "# 查看GPU是否有讀到"
   ]
  },
  {
   "cell_type": "code",
   "execution_count": 4,
   "metadata": {},
   "outputs": [
    {
     "data": {
      "text/plain": [
       "[PhysicalDevice(name='/physical_device:CPU:0', device_type='CPU'),\n",
       " PhysicalDevice(name='/physical_device:XLA_CPU:0', device_type='XLA_CPU'),\n",
       " PhysicalDevice(name='/physical_device:XLA_GPU:0', device_type='XLA_GPU'),\n",
       " PhysicalDevice(name='/physical_device:XLA_GPU:1', device_type='XLA_GPU')]"
      ]
     },
     "execution_count": 4,
     "metadata": {},
     "output_type": "execute_result"
    }
   ],
   "source": [
    "tf.config.list_physical_devices()"
   ]
  },
  {
   "cell_type": "code",
   "execution_count": 5,
   "metadata": {},
   "outputs": [
    {
     "data": {
      "text/plain": [
       "True"
      ]
     },
     "execution_count": 5,
     "metadata": {},
     "output_type": "execute_result"
    }
   ],
   "source": [
    "tf.test.is_built_with_cuda()"
   ]
  },
  {
   "cell_type": "markdown",
   "metadata": {},
   "source": [
    "# 將要訓練的內容使用pandas套件讀進來"
   ]
  },
  {
   "cell_type": "code",
   "execution_count": 6,
   "metadata": {},
   "outputs": [
    {
     "name": "stdout",
     "output_type": "stream",
     "text": [
      "(115, 9)\n",
      "<class 'pandas.core.frame.DataFrame'>\n",
      "RangeIndex: 115 entries, 0 to 114\n",
      "Data columns (total 9 columns):\n",
      " #   Column      Non-Null Count  Dtype  \n",
      "---  ------      --------------  -----  \n",
      " 0   天數          115 non-null    int64  \n",
      " 1   累加積溫        115 non-null    float64\n",
      " 2   累加氣壓        115 non-null    float64\n",
      " 3   累加濕度        115 non-null    float64\n",
      " 4   平均風速        115 non-null    float64\n",
      " 5   累加降雨量       115 non-null    float64\n",
      " 6   累加輻射量       115 non-null    float64\n",
      " 7   累加地下10公分積溫  115 non-null    float64\n",
      " 8   產量          115 non-null    float64\n",
      "dtypes: float64(8), int64(1)\n",
      "memory usage: 8.2 KB\n",
      "None\n"
     ]
    },
    {
     "data": {
      "text/html": [
       "<div>\n",
       "<style scoped>\n",
       "    .dataframe tbody tr th:only-of-type {\n",
       "        vertical-align: middle;\n",
       "    }\n",
       "\n",
       "    .dataframe tbody tr th {\n",
       "        vertical-align: top;\n",
       "    }\n",
       "\n",
       "    .dataframe thead th {\n",
       "        text-align: right;\n",
       "    }\n",
       "</style>\n",
       "<table border=\"1\" class=\"dataframe\">\n",
       "  <thead>\n",
       "    <tr style=\"text-align: right;\">\n",
       "      <th></th>\n",
       "      <th>天數</th>\n",
       "      <th>累加積溫</th>\n",
       "      <th>累加氣壓</th>\n",
       "      <th>累加濕度</th>\n",
       "      <th>平均風速</th>\n",
       "      <th>累加降雨量</th>\n",
       "      <th>累加輻射量</th>\n",
       "      <th>累加地下10公分積溫</th>\n",
       "      <th>產量</th>\n",
       "    </tr>\n",
       "  </thead>\n",
       "  <tbody>\n",
       "    <tr>\n",
       "      <th>0</th>\n",
       "      <td>34</td>\n",
       "      <td>503.314458</td>\n",
       "      <td>823897.50</td>\n",
       "      <td>3003.708333</td>\n",
       "      <td>56.066667</td>\n",
       "      <td>74.5</td>\n",
       "      <td>265.9</td>\n",
       "      <td>812.720833</td>\n",
       "      <td>40824.74</td>\n",
       "    </tr>\n",
       "    <tr>\n",
       "      <th>1</th>\n",
       "      <td>29</td>\n",
       "      <td>359.900000</td>\n",
       "      <td>701512.95</td>\n",
       "      <td>2482.208333</td>\n",
       "      <td>44.222917</td>\n",
       "      <td>65.5</td>\n",
       "      <td>233.3</td>\n",
       "      <td>731.995833</td>\n",
       "      <td>18556.70</td>\n",
       "    </tr>\n",
       "    <tr>\n",
       "      <th>2</th>\n",
       "      <td>33</td>\n",
       "      <td>435.447750</td>\n",
       "      <td>798808.50</td>\n",
       "      <td>2839.750000</td>\n",
       "      <td>52.989583</td>\n",
       "      <td>66.5</td>\n",
       "      <td>262.0</td>\n",
       "      <td>806.741667</td>\n",
       "      <td>38350.52</td>\n",
       "    </tr>\n",
       "    <tr>\n",
       "      <th>3</th>\n",
       "      <td>34</td>\n",
       "      <td>452.579000</td>\n",
       "      <td>823063.80</td>\n",
       "      <td>2931.833333</td>\n",
       "      <td>53.914583</td>\n",
       "      <td>66.5</td>\n",
       "      <td>270.5</td>\n",
       "      <td>832.300000</td>\n",
       "      <td>23195.88</td>\n",
       "    </tr>\n",
       "    <tr>\n",
       "      <th>4</th>\n",
       "      <td>31</td>\n",
       "      <td>428.028313</td>\n",
       "      <td>750553.10</td>\n",
       "      <td>2673.895833</td>\n",
       "      <td>52.056250</td>\n",
       "      <td>66.5</td>\n",
       "      <td>243.8</td>\n",
       "      <td>742.016667</td>\n",
       "      <td>23608.25</td>\n",
       "    </tr>\n",
       "  </tbody>\n",
       "</table>\n",
       "</div>"
      ],
      "text/plain": [
       "   天數        累加積溫       累加氣壓         累加濕度       平均風速  累加降雨量  累加輻射量  \\\n",
       "0  34  503.314458  823897.50  3003.708333  56.066667   74.5  265.9   \n",
       "1  29  359.900000  701512.95  2482.208333  44.222917   65.5  233.3   \n",
       "2  33  435.447750  798808.50  2839.750000  52.989583   66.5  262.0   \n",
       "3  34  452.579000  823063.80  2931.833333  53.914583   66.5  270.5   \n",
       "4  31  428.028313  750553.10  2673.895833  52.056250   66.5  243.8   \n",
       "\n",
       "   累加地下10公分積溫        產量  \n",
       "0  812.720833  40824.74  \n",
       "1  731.995833  18556.70  \n",
       "2  806.741667  38350.52  \n",
       "3  832.300000  23195.88  \n",
       "4  742.016667  23608.25  "
      ]
     },
     "execution_count": 6,
     "metadata": {},
     "output_type": "execute_result"
    }
   ],
   "source": [
    "data = pd.read_excel('四季白菜_作業125.xlsx')\n",
    "print(data.shape)\n",
    "print(data.info())\n",
    "data.head(5)"
   ]
  },
  {
   "cell_type": "code",
   "execution_count": 7,
   "metadata": {},
   "outputs": [
    {
     "data": {
      "text/html": [
       "<div>\n",
       "<style scoped>\n",
       "    .dataframe tbody tr th:only-of-type {\n",
       "        vertical-align: middle;\n",
       "    }\n",
       "\n",
       "    .dataframe tbody tr th {\n",
       "        vertical-align: top;\n",
       "    }\n",
       "\n",
       "    .dataframe thead th {\n",
       "        text-align: right;\n",
       "    }\n",
       "</style>\n",
       "<table border=\"1\" class=\"dataframe\">\n",
       "  <thead>\n",
       "    <tr style=\"text-align: right;\">\n",
       "      <th></th>\n",
       "      <th>天數</th>\n",
       "      <th>累加積溫</th>\n",
       "      <th>累加氣壓</th>\n",
       "      <th>累加濕度</th>\n",
       "      <th>平均風速</th>\n",
       "      <th>累加降雨量</th>\n",
       "      <th>累加輻射量</th>\n",
       "      <th>累加地下10公分積溫</th>\n",
       "      <th>產量</th>\n",
       "    </tr>\n",
       "  </thead>\n",
       "  <tbody>\n",
       "    <tr>\n",
       "      <th>count</th>\n",
       "      <td>115.000000</td>\n",
       "      <td>115.000000</td>\n",
       "      <td>115.000000</td>\n",
       "      <td>115.000000</td>\n",
       "      <td>115.000000</td>\n",
       "      <td>115.000000</td>\n",
       "      <td>115.000000</td>\n",
       "      <td>115.000000</td>\n",
       "      <td>115.000000</td>\n",
       "    </tr>\n",
       "    <tr>\n",
       "      <th>mean</th>\n",
       "      <td>32.182609</td>\n",
       "      <td>336.410982</td>\n",
       "      <td>756755.272609</td>\n",
       "      <td>2709.952355</td>\n",
       "      <td>36.366449</td>\n",
       "      <td>141.423913</td>\n",
       "      <td>261.542609</td>\n",
       "      <td>737.415833</td>\n",
       "      <td>27862.773913</td>\n",
       "    </tr>\n",
       "    <tr>\n",
       "      <th>std</th>\n",
       "      <td>3.158343</td>\n",
       "      <td>86.927719</td>\n",
       "      <td>77661.691097</td>\n",
       "      <td>347.430473</td>\n",
       "      <td>15.016651</td>\n",
       "      <td>184.806499</td>\n",
       "      <td>31.105697</td>\n",
       "      <td>108.662718</td>\n",
       "      <td>8668.901717</td>\n",
       "    </tr>\n",
       "    <tr>\n",
       "      <th>min</th>\n",
       "      <td>26.000000</td>\n",
       "      <td>190.896875</td>\n",
       "      <td>611008.700000</td>\n",
       "      <td>2060.833333</td>\n",
       "      <td>17.131250</td>\n",
       "      <td>4.500000</td>\n",
       "      <td>181.900000</td>\n",
       "      <td>561.170833</td>\n",
       "      <td>10309.280000</td>\n",
       "    </tr>\n",
       "    <tr>\n",
       "      <th>25%</th>\n",
       "      <td>30.000000</td>\n",
       "      <td>259.326177</td>\n",
       "      <td>705800.475000</td>\n",
       "      <td>2478.531250</td>\n",
       "      <td>23.202083</td>\n",
       "      <td>26.000000</td>\n",
       "      <td>243.300000</td>\n",
       "      <td>653.741667</td>\n",
       "      <td>20618.560000</td>\n",
       "    </tr>\n",
       "    <tr>\n",
       "      <th>50%</th>\n",
       "      <td>32.000000</td>\n",
       "      <td>346.446188</td>\n",
       "      <td>752454.700000</td>\n",
       "      <td>2673.895833</td>\n",
       "      <td>31.343750</td>\n",
       "      <td>56.500000</td>\n",
       "      <td>265.000000</td>\n",
       "      <td>714.433333</td>\n",
       "      <td>28206.190000</td>\n",
       "    </tr>\n",
       "    <tr>\n",
       "      <th>75%</th>\n",
       "      <td>34.000000</td>\n",
       "      <td>396.264038</td>\n",
       "      <td>799806.425000</td>\n",
       "      <td>2851.104167</td>\n",
       "      <td>47.851042</td>\n",
       "      <td>184.500000</td>\n",
       "      <td>278.700000</td>\n",
       "      <td>823.387500</td>\n",
       "      <td>33758.200000</td>\n",
       "    </tr>\n",
       "    <tr>\n",
       "      <th>max</th>\n",
       "      <td>39.000000</td>\n",
       "      <td>551.164521</td>\n",
       "      <td>937982.400000</td>\n",
       "      <td>3596.437500</td>\n",
       "      <td>67.787500</td>\n",
       "      <td>649.000000</td>\n",
       "      <td>355.000000</td>\n",
       "      <td>1080.762500</td>\n",
       "      <td>49639.180000</td>\n",
       "    </tr>\n",
       "  </tbody>\n",
       "</table>\n",
       "</div>"
      ],
      "text/plain": [
       "               天數        累加積溫           累加氣壓         累加濕度        平均風速  \\\n",
       "count  115.000000  115.000000     115.000000   115.000000  115.000000   \n",
       "mean    32.182609  336.410982  756755.272609  2709.952355   36.366449   \n",
       "std      3.158343   86.927719   77661.691097   347.430473   15.016651   \n",
       "min     26.000000  190.896875  611008.700000  2060.833333   17.131250   \n",
       "25%     30.000000  259.326177  705800.475000  2478.531250   23.202083   \n",
       "50%     32.000000  346.446188  752454.700000  2673.895833   31.343750   \n",
       "75%     34.000000  396.264038  799806.425000  2851.104167   47.851042   \n",
       "max     39.000000  551.164521  937982.400000  3596.437500   67.787500   \n",
       "\n",
       "            累加降雨量       累加輻射量   累加地下10公分積溫            產量  \n",
       "count  115.000000  115.000000   115.000000    115.000000  \n",
       "mean   141.423913  261.542609   737.415833  27862.773913  \n",
       "std    184.806499   31.105697   108.662718   8668.901717  \n",
       "min      4.500000  181.900000   561.170833  10309.280000  \n",
       "25%     26.000000  243.300000   653.741667  20618.560000  \n",
       "50%     56.500000  265.000000   714.433333  28206.190000  \n",
       "75%    184.500000  278.700000   823.387500  33758.200000  \n",
       "max    649.000000  355.000000  1080.762500  49639.180000  "
      ]
     },
     "execution_count": 7,
     "metadata": {},
     "output_type": "execute_result"
    }
   ],
   "source": [
    "data.describe()"
   ]
  },
  {
   "cell_type": "markdown",
   "metadata": {},
   "source": [
    "# 上面data.describe() 列印出來的資料可以看出，每個欄位的min以及max都在正常範圍內，並沒有異常值出現"
   ]
  },
  {
   "cell_type": "code",
   "execution_count": 8,
   "metadata": {},
   "outputs": [
    {
     "data": {
      "text/plain": [
       "Index(['天數', '累加積溫', '累加氣壓', '累加濕度', '平均風速', '累加降雨量', '累加輻射量', '累加地下10公分積溫',\n",
       "       '產量'],\n",
       "      dtype='object')"
      ]
     },
     "execution_count": 8,
     "metadata": {},
     "output_type": "execute_result"
    }
   ],
   "source": [
    "data.columns"
   ]
  },
  {
   "cell_type": "markdown",
   "metadata": {},
   "source": [
    "# 下面將要訓練的資料特徵欄:'天數', '累加積溫', '累加氣壓', '累加濕度', '平均風速', '累加降雨量', '累加輻射量', '累加地下10公分積溫'，這八個特徵放入X\n",
    "\n",
    "# 將要預測的'產量'欄位放入y\n",
    "\n",
    "# 並用np.array將其轉為浮點數陣列型態儲存"
   ]
  },
  {
   "cell_type": "code",
   "execution_count": 9,
   "metadata": {},
   "outputs": [
    {
     "data": {
      "text/html": [
       "<div>\n",
       "<style scoped>\n",
       "    .dataframe tbody tr th:only-of-type {\n",
       "        vertical-align: middle;\n",
       "    }\n",
       "\n",
       "    .dataframe tbody tr th {\n",
       "        vertical-align: top;\n",
       "    }\n",
       "\n",
       "    .dataframe thead th {\n",
       "        text-align: right;\n",
       "    }\n",
       "</style>\n",
       "<table border=\"1\" class=\"dataframe\">\n",
       "  <thead>\n",
       "    <tr style=\"text-align: right;\">\n",
       "      <th></th>\n",
       "      <th>names</th>\n",
       "      <th>coef</th>\n",
       "      <th>se</th>\n",
       "      <th>T</th>\n",
       "      <th>pval</th>\n",
       "      <th>r2</th>\n",
       "      <th>adj_r2</th>\n",
       "      <th>CI[2.5%]</th>\n",
       "      <th>CI[97.5%]</th>\n",
       "    </tr>\n",
       "  </thead>\n",
       "  <tbody>\n",
       "    <tr>\n",
       "      <th>0</th>\n",
       "      <td>Intercept</td>\n",
       "      <td>27811.993544</td>\n",
       "      <td>9100.274564</td>\n",
       "      <td>3.056171</td>\n",
       "      <td>0.002837</td>\n",
       "      <td>0.312698</td>\n",
       "      <td>0.260826</td>\n",
       "      <td>9769.814113</td>\n",
       "      <td>45854.172974</td>\n",
       "    </tr>\n",
       "    <tr>\n",
       "      <th>1</th>\n",
       "      <td>x1</td>\n",
       "      <td>-1879.480575</td>\n",
       "      <td>1135.346201</td>\n",
       "      <td>-1.655425</td>\n",
       "      <td>0.100796</td>\n",
       "      <td>0.312698</td>\n",
       "      <td>0.260826</td>\n",
       "      <td>-4130.414844</td>\n",
       "      <td>371.453693</td>\n",
       "    </tr>\n",
       "    <tr>\n",
       "      <th>2</th>\n",
       "      <td>x2</td>\n",
       "      <td>1.141072</td>\n",
       "      <td>12.191674</td>\n",
       "      <td>0.093594</td>\n",
       "      <td>0.925608</td>\n",
       "      <td>0.312698</td>\n",
       "      <td>0.260826</td>\n",
       "      <td>-23.030108</td>\n",
       "      <td>25.312251</td>\n",
       "    </tr>\n",
       "    <tr>\n",
       "      <th>3</th>\n",
       "      <td>x3</td>\n",
       "      <td>0.031672</td>\n",
       "      <td>0.054421</td>\n",
       "      <td>0.581987</td>\n",
       "      <td>0.561811</td>\n",
       "      <td>0.312698</td>\n",
       "      <td>0.260826</td>\n",
       "      <td>-0.076223</td>\n",
       "      <td>0.139567</td>\n",
       "    </tr>\n",
       "    <tr>\n",
       "      <th>4</th>\n",
       "      <td>x4</td>\n",
       "      <td>4.564816</td>\n",
       "      <td>9.389996</td>\n",
       "      <td>0.486136</td>\n",
       "      <td>0.627874</td>\n",
       "      <td>0.312698</td>\n",
       "      <td>0.260826</td>\n",
       "      <td>-14.051764</td>\n",
       "      <td>23.181397</td>\n",
       "    </tr>\n",
       "    <tr>\n",
       "      <th>5</th>\n",
       "      <td>x5</td>\n",
       "      <td>260.607634</td>\n",
       "      <td>143.034293</td>\n",
       "      <td>1.821994</td>\n",
       "      <td>0.071276</td>\n",
       "      <td>0.312698</td>\n",
       "      <td>0.260826</td>\n",
       "      <td>-22.971764</td>\n",
       "      <td>544.187032</td>\n",
       "    </tr>\n",
       "    <tr>\n",
       "      <th>6</th>\n",
       "      <td>x6</td>\n",
       "      <td>3.708661</td>\n",
       "      <td>8.277070</td>\n",
       "      <td>0.448064</td>\n",
       "      <td>0.655021</td>\n",
       "      <td>0.312698</td>\n",
       "      <td>0.260826</td>\n",
       "      <td>-12.701435</td>\n",
       "      <td>20.118757</td>\n",
       "    </tr>\n",
       "    <tr>\n",
       "      <th>7</th>\n",
       "      <td>x7</td>\n",
       "      <td>158.876948</td>\n",
       "      <td>64.063801</td>\n",
       "      <td>2.479980</td>\n",
       "      <td>0.014713</td>\n",
       "      <td>0.312698</td>\n",
       "      <td>0.260826</td>\n",
       "      <td>31.864233</td>\n",
       "      <td>285.889664</td>\n",
       "    </tr>\n",
       "    <tr>\n",
       "      <th>8</th>\n",
       "      <td>x8</td>\n",
       "      <td>-37.617970</td>\n",
       "      <td>14.370832</td>\n",
       "      <td>-2.617661</td>\n",
       "      <td>0.010148</td>\n",
       "      <td>0.312698</td>\n",
       "      <td>0.260826</td>\n",
       "      <td>-66.109543</td>\n",
       "      <td>-9.126398</td>\n",
       "    </tr>\n",
       "  </tbody>\n",
       "</table>\n",
       "</div>"
      ],
      "text/plain": [
       "       names          coef           se         T      pval        r2  \\\n",
       "0  Intercept  27811.993544  9100.274564  3.056171  0.002837  0.312698   \n",
       "1         x1  -1879.480575  1135.346201 -1.655425  0.100796  0.312698   \n",
       "2         x2      1.141072    12.191674  0.093594  0.925608  0.312698   \n",
       "3         x3      0.031672     0.054421  0.581987  0.561811  0.312698   \n",
       "4         x4      4.564816     9.389996  0.486136  0.627874  0.312698   \n",
       "5         x5    260.607634   143.034293  1.821994  0.071276  0.312698   \n",
       "6         x6      3.708661     8.277070  0.448064  0.655021  0.312698   \n",
       "7         x7    158.876948    64.063801  2.479980  0.014713  0.312698   \n",
       "8         x8    -37.617970    14.370832 -2.617661  0.010148  0.312698   \n",
       "\n",
       "     adj_r2     CI[2.5%]     CI[97.5%]  \n",
       "0  0.260826  9769.814113  45854.172974  \n",
       "1  0.260826 -4130.414844    371.453693  \n",
       "2  0.260826   -23.030108     25.312251  \n",
       "3  0.260826    -0.076223      0.139567  \n",
       "4  0.260826   -14.051764     23.181397  \n",
       "5  0.260826   -22.971764    544.187032  \n",
       "6  0.260826   -12.701435     20.118757  \n",
       "7  0.260826    31.864233    285.889664  \n",
       "8  0.260826   -66.109543     -9.126398  "
      ]
     },
     "execution_count": 9,
     "metadata": {},
     "output_type": "execute_result"
    }
   ],
   "source": [
    "X = data[['天數', '累加積溫', '累加氣壓', '累加濕度', '平均風速', '累加降雨量', '累加輻射量', '累加地下10公分積溫']].values\n",
    "y = data['產量'].values\n",
    "X = np.array(X, dtype=float)\n",
    "y = np.array(y, dtype=float)"
   ]
  },
  {
   "cell_type": "markdown",
   "metadata": {},
   "source": [
    "# 接著下面做歸一化，將全部資料縮放到0與1之間，避免某個欄位數據變化過大而引響模型訓練的權重，這邊如果沒做，loss值會降不下去，無法收斂"
   ]
  },
  {
   "cell_type": "code",
   "execution_count": 10,
   "metadata": {},
   "outputs": [],
   "source": [
    "# 歸一化Normalization\n",
    "from sklearn.preprocessing import MinMaxScaler\n",
    "\n",
    "sc = MinMaxScaler(feature_range = (0, 1))\n",
    "training_set_scaled = sc.fit_transform(data)"
   ]
  },
  {
   "cell_type": "markdown",
   "metadata": {},
   "source": [
    "# 下面這邊將資料拆成80%與20%，作為訓練集以及訓練完後模型的測試集，並將上面的歸一化函式放在一起做，做完再轉成numpy array"
   ]
  },
  {
   "cell_type": "code",
   "execution_count": 11,
   "metadata": {},
   "outputs": [],
   "source": [
    "# 拆分% 80 20\n",
    "rate = 0.8\n",
    "\n",
    "X_train = []\n",
    "y_train = []\n",
    "X_test  = []\n",
    "y_test  = []\n",
    "\n",
    "for i in range(0, int(rate*len(data))):  # range(0, 92)\n",
    "    X_train.append(training_set_scaled[i, 0:9])\n",
    "    y_train.append(training_set_scaled[i, 8])\n",
    "    \n",
    "for i in range(int(rate*len(data)), len(data)):  # range(92, 115)\n",
    "    X_test.append(training_set_scaled[i, 0:9])\n",
    "    y_test.append(training_set_scaled[i, 8])\n",
    "    \n",
    "X_train, y_train = np.array(X_train), np.array(y_train)  # 轉成numpy array\n",
    "X_test, y_test = np.array(X_test), np.array(y_test)  "
   ]
  },
  {
   "cell_type": "markdown",
   "metadata": {},
   "source": [
    "# 因為LSTM的資料輸入為三維(batch_size, time_step, input_dim)，因此使用np.reshape讓資料多增加一個維度\n",
    "\n",
    "- Batch Size，表示一個 Batch 中有多少個 Sample\n",
    "- 第二個維度為 Time Step，表示一個 Sample 中由多少時間單位組成\n",
    "- 第三個維度為 Input Dimension，表示 Sample 中的每一個時間單位的向量維度"
   ]
  },
  {
   "cell_type": "code",
   "execution_count": 12,
   "metadata": {},
   "outputs": [],
   "source": [
    "X_train = np.reshape(X_train, (X_train.shape[0], X_train.shape[1], 1))\n",
    "X_test = np.reshape(X_test, (X_test.shape[0], X_test.shape[1], 1))"
   ]
  },
  {
   "cell_type": "markdown",
   "metadata": {},
   "source": [
    "# 建立模型"
   ]
  },
  {
   "cell_type": "code",
   "execution_count": 14,
   "metadata": {},
   "outputs": [
    {
     "name": "stdout",
     "output_type": "stream",
     "text": [
      "Model: \"sequential\"\n",
      "_________________________________________________________________\n",
      "Layer (type)                 Output Shape              Param #   \n",
      "=================================================================\n",
      "lstm (LSTM)                  (None, 100)               40800     \n",
      "_________________________________________________________________\n",
      "dense (Dense)                (None, 1)                 101       \n",
      "=================================================================\n",
      "Total params: 40,901\n",
      "Trainable params: 40,901\n",
      "Non-trainable params: 0\n",
      "_________________________________________________________________\n"
     ]
    }
   ],
   "source": [
    "# 多對一 LSTM\n",
    "from tensorflow import keras \n",
    "from tensorflow.keras.models import Sequential\n",
    "from tensorflow.keras.layers import Dense, LSTM, Dropout, BatchNormalization\n",
    "\n",
    "keras.backend.clear_session()\n",
    "regressor = Sequential()\n",
    "regressor.add(LSTM(units = 100, input_shape = (X_train.shape[1], 1))) # 全連線隱藏層包含100個神經元，input_shape放入欄位維度以及時間單位的向量維度\n",
    "regressor.add(Dense(units = 1)) # 輸出層包含一個神經元\n",
    "regressor.compile(optimizer = 'adam', loss = 'mean_squared_error', metrics=['MeanSquaredError', 'MeanAbsoluteError']) #  使用MSE均方誤差作為評價指標\n",
    "    \n",
    "regressor.summary()"
   ]
  },
  {
   "cell_type": "markdown",
   "metadata": {},
   "source": [
    "# 開始訓練模型，開始跑迭帶，次數為100次(epoch)，一次跑的量為16個樣本(batch_size)"
   ]
  },
  {
   "cell_type": "code",
   "execution_count": 15,
   "metadata": {
    "scrolled": false,
    "tags": []
   },
   "outputs": [
    {
     "name": "stdout",
     "output_type": "stream",
     "text": [
      "Epoch 1/100\n",
      "6/6 [==============================] - 0s 3ms/step - loss: 0.1822 - mean_squared_error: 0.1822 - mean_absolute_error: 0.3771\n",
      "Epoch 2/100\n",
      "6/6 [==============================] - 0s 3ms/step - loss: 0.0565 - mean_squared_error: 0.0565 - mean_absolute_error: 0.1934\n",
      "Epoch 3/100\n",
      "6/6 [==============================] - 0s 2ms/step - loss: 0.0613 - mean_squared_error: 0.0613 - mean_absolute_error: 0.1995\n",
      "Epoch 4/100\n",
      "6/6 [==============================] - 0s 2ms/step - loss: 0.0452 - mean_squared_error: 0.0452 - mean_absolute_error: 0.1745\n",
      "Epoch 5/100\n",
      "6/6 [==============================] - 0s 2ms/step - loss: 0.0470 - mean_squared_error: 0.0470 - mean_absolute_error: 0.1763\n",
      "Epoch 6/100\n",
      "6/6 [==============================] - 0s 2ms/step - loss: 0.0443 - mean_squared_error: 0.0443 - mean_absolute_error: 0.1694\n",
      "Epoch 7/100\n",
      "6/6 [==============================] - 0s 2ms/step - loss: 0.0416 - mean_squared_error: 0.0416 - mean_absolute_error: 0.1654\n",
      "Epoch 8/100\n",
      "6/6 [==============================] - 0s 2ms/step - loss: 0.0415 - mean_squared_error: 0.0415 - mean_absolute_error: 0.1652\n",
      "Epoch 9/100\n",
      "6/6 [==============================] - 0s 2ms/step - loss: 0.0403 - mean_squared_error: 0.0403 - mean_absolute_error: 0.1617\n",
      "Epoch 10/100\n",
      "6/6 [==============================] - 0s 2ms/step - loss: 0.0401 - mean_squared_error: 0.0401 - mean_absolute_error: 0.1618\n",
      "Epoch 11/100\n",
      "6/6 [==============================] - 0s 2ms/step - loss: 0.0396 - mean_squared_error: 0.0396 - mean_absolute_error: 0.1606\n",
      "Epoch 12/100\n",
      "6/6 [==============================] - 0s 2ms/step - loss: 0.0391 - mean_squared_error: 0.0391 - mean_absolute_error: 0.1591\n",
      "Epoch 13/100\n",
      "6/6 [==============================] - 0s 2ms/step - loss: 0.0387 - mean_squared_error: 0.0387 - mean_absolute_error: 0.1587\n",
      "Epoch 14/100\n",
      "6/6 [==============================] - 0s 2ms/step - loss: 0.0390 - mean_squared_error: 0.0390 - mean_absolute_error: 0.1591\n",
      "Epoch 15/100\n",
      "6/6 [==============================] - 0s 2ms/step - loss: 0.0377 - mean_squared_error: 0.0377 - mean_absolute_error: 0.1571\n",
      "Epoch 16/100\n",
      "6/6 [==============================] - 0s 2ms/step - loss: 0.0372 - mean_squared_error: 0.0372 - mean_absolute_error: 0.1557\n",
      "Epoch 17/100\n",
      "6/6 [==============================] - 0s 2ms/step - loss: 0.0374 - mean_squared_error: 0.0374 - mean_absolute_error: 0.1556\n",
      "Epoch 18/100\n",
      "6/6 [==============================] - 0s 2ms/step - loss: 0.0364 - mean_squared_error: 0.0364 - mean_absolute_error: 0.1539\n",
      "Epoch 19/100\n",
      "6/6 [==============================] - 0s 2ms/step - loss: 0.0361 - mean_squared_error: 0.0361 - mean_absolute_error: 0.1537\n",
      "Epoch 20/100\n",
      "6/6 [==============================] - 0s 2ms/step - loss: 0.0358 - mean_squared_error: 0.0358 - mean_absolute_error: 0.1525\n",
      "Epoch 21/100\n",
      "6/6 [==============================] - 0s 2ms/step - loss: 0.0358 - mean_squared_error: 0.0358 - mean_absolute_error: 0.1533\n",
      "Epoch 22/100\n",
      "6/6 [==============================] - 0s 2ms/step - loss: 0.0357 - mean_squared_error: 0.0357 - mean_absolute_error: 0.1517\n",
      "Epoch 23/100\n",
      "6/6 [==============================] - 0s 2ms/step - loss: 0.0344 - mean_squared_error: 0.0344 - mean_absolute_error: 0.1503\n",
      "Epoch 24/100\n",
      "6/6 [==============================] - 0s 2ms/step - loss: 0.0339 - mean_squared_error: 0.0339 - mean_absolute_error: 0.1496\n",
      "Epoch 25/100\n",
      "6/6 [==============================] - 0s 2ms/step - loss: 0.0335 - mean_squared_error: 0.0335 - mean_absolute_error: 0.1484\n",
      "Epoch 26/100\n",
      "6/6 [==============================] - 0s 2ms/step - loss: 0.0329 - mean_squared_error: 0.0329 - mean_absolute_error: 0.1467\n",
      "Epoch 27/100\n",
      "6/6 [==============================] - 0s 2ms/step - loss: 0.0325 - mean_squared_error: 0.0325 - mean_absolute_error: 0.1470\n",
      "Epoch 28/100\n",
      "6/6 [==============================] - 0s 2ms/step - loss: 0.0318 - mean_squared_error: 0.0318 - mean_absolute_error: 0.1444\n",
      "Epoch 29/100\n",
      "6/6 [==============================] - 0s 2ms/step - loss: 0.0311 - mean_squared_error: 0.0311 - mean_absolute_error: 0.1428\n",
      "Epoch 30/100\n",
      "6/6 [==============================] - 0s 2ms/step - loss: 0.0305 - mean_squared_error: 0.0305 - mean_absolute_error: 0.1419\n",
      "Epoch 31/100\n",
      "6/6 [==============================] - 0s 2ms/step - loss: 0.0297 - mean_squared_error: 0.0297 - mean_absolute_error: 0.1392\n",
      "Epoch 32/100\n",
      "6/6 [==============================] - 0s 2ms/step - loss: 0.0293 - mean_squared_error: 0.0293 - mean_absolute_error: 0.1384\n",
      "Epoch 33/100\n",
      "6/6 [==============================] - 0s 2ms/step - loss: 0.0281 - mean_squared_error: 0.0281 - mean_absolute_error: 0.1361\n",
      "Epoch 34/100\n",
      "6/6 [==============================] - 0s 2ms/step - loss: 0.0273 - mean_squared_error: 0.0273 - mean_absolute_error: 0.1328\n",
      "Epoch 35/100\n",
      "6/6 [==============================] - 0s 2ms/step - loss: 0.0267 - mean_squared_error: 0.0267 - mean_absolute_error: 0.1341\n",
      "Epoch 36/100\n",
      "6/6 [==============================] - 0s 2ms/step - loss: 0.0251 - mean_squared_error: 0.0251 - mean_absolute_error: 0.1269\n",
      "Epoch 37/100\n",
      "6/6 [==============================] - 0s 2ms/step - loss: 0.0241 - mean_squared_error: 0.0241 - mean_absolute_error: 0.1249\n",
      "Epoch 38/100\n",
      "6/6 [==============================] - 0s 2ms/step - loss: 0.0238 - mean_squared_error: 0.0238 - mean_absolute_error: 0.1250\n",
      "Epoch 39/100\n",
      "6/6 [==============================] - 0s 2ms/step - loss: 0.0216 - mean_squared_error: 0.0216 - mean_absolute_error: 0.1177\n",
      "Epoch 40/100\n",
      "6/6 [==============================] - 0s 2ms/step - loss: 0.0201 - mean_squared_error: 0.0201 - mean_absolute_error: 0.1135\n",
      "Epoch 41/100\n",
      "6/6 [==============================] - 0s 2ms/step - loss: 0.0188 - mean_squared_error: 0.0188 - mean_absolute_error: 0.1096\n",
      "Epoch 42/100\n",
      "6/6 [==============================] - 0s 2ms/step - loss: 0.0175 - mean_squared_error: 0.0175 - mean_absolute_error: 0.1069\n",
      "Epoch 43/100\n",
      "6/6 [==============================] - 0s 2ms/step - loss: 0.0161 - mean_squared_error: 0.0161 - mean_absolute_error: 0.1017\n",
      "Epoch 44/100\n",
      "6/6 [==============================] - 0s 2ms/step - loss: 0.0131 - mean_squared_error: 0.0131 - mean_absolute_error: 0.0914\n",
      "Epoch 45/100\n",
      "6/6 [==============================] - 0s 2ms/step - loss: 0.0127 - mean_squared_error: 0.0127 - mean_absolute_error: 0.0925\n",
      "Epoch 46/100\n",
      "6/6 [==============================] - 0s 2ms/step - loss: 0.0087 - mean_squared_error: 0.0087 - mean_absolute_error: 0.0751\n",
      "Epoch 47/100\n",
      "6/6 [==============================] - 0s 2ms/step - loss: 0.0081 - mean_squared_error: 0.0081 - mean_absolute_error: 0.0741\n",
      "Epoch 48/100\n",
      "6/6 [==============================] - 0s 2ms/step - loss: 0.0065 - mean_squared_error: 0.0065 - mean_absolute_error: 0.0655\n",
      "Epoch 49/100\n",
      "6/6 [==============================] - 0s 2ms/step - loss: 0.0050 - mean_squared_error: 0.0050 - mean_absolute_error: 0.0594\n",
      "Epoch 50/100\n",
      "6/6 [==============================] - 0s 2ms/step - loss: 0.0051 - mean_squared_error: 0.0051 - mean_absolute_error: 0.0585\n",
      "Epoch 51/100\n",
      "6/6 [==============================] - 0s 2ms/step - loss: 0.0049 - mean_squared_error: 0.0049 - mean_absolute_error: 0.0564\n",
      "Epoch 52/100\n",
      "6/6 [==============================] - 0s 2ms/step - loss: 0.0041 - mean_squared_error: 0.0041 - mean_absolute_error: 0.0529\n",
      "Epoch 53/100\n",
      "6/6 [==============================] - 0s 2ms/step - loss: 0.0025 - mean_squared_error: 0.0025 - mean_absolute_error: 0.0402\n",
      "Epoch 54/100\n",
      "6/6 [==============================] - 0s 2ms/step - loss: 0.0036 - mean_squared_error: 0.0036 - mean_absolute_error: 0.0493\n",
      "Epoch 55/100\n",
      "6/6 [==============================] - 0s 2ms/step - loss: 0.0031 - mean_squared_error: 0.0031 - mean_absolute_error: 0.0447\n",
      "Epoch 56/100\n",
      "6/6 [==============================] - 0s 2ms/step - loss: 0.0023 - mean_squared_error: 0.0023 - mean_absolute_error: 0.0400\n",
      "Epoch 57/100\n",
      "6/6 [==============================] - 0s 2ms/step - loss: 0.0018 - mean_squared_error: 0.0018 - mean_absolute_error: 0.0341\n",
      "Epoch 58/100\n",
      "6/6 [==============================] - 0s 2ms/step - loss: 0.0012 - mean_squared_error: 0.0012 - mean_absolute_error: 0.0263\n",
      "Epoch 59/100\n",
      "6/6 [==============================] - 0s 2ms/step - loss: 0.0012 - mean_squared_error: 0.0012 - mean_absolute_error: 0.0276\n",
      "Epoch 60/100\n",
      "6/6 [==============================] - 0s 2ms/step - loss: 9.3847e-04 - mean_squared_error: 9.3847e-04 - mean_absolute_error: 0.0244\n",
      "Epoch 61/100\n",
      "6/6 [==============================] - 0s 2ms/step - loss: 7.0275e-04 - mean_squared_error: 7.0275e-04 - mean_absolute_error: 0.0215\n",
      "Epoch 62/100\n",
      "6/6 [==============================] - 0s 2ms/step - loss: 7.6620e-04 - mean_squared_error: 7.6620e-04 - mean_absolute_error: 0.0220\n",
      "Epoch 63/100\n",
      "6/6 [==============================] - 0s 2ms/step - loss: 6.8206e-04 - mean_squared_error: 6.8206e-04 - mean_absolute_error: 0.0216\n",
      "Epoch 64/100\n",
      "6/6 [==============================] - 0s 2ms/step - loss: 5.0446e-04 - mean_squared_error: 5.0446e-04 - mean_absolute_error: 0.0185\n",
      "Epoch 65/100\n",
      "6/6 [==============================] - 0s 2ms/step - loss: 3.4504e-04 - mean_squared_error: 3.4504e-04 - mean_absolute_error: 0.0149\n",
      "Epoch 66/100\n",
      "6/6 [==============================] - 0s 2ms/step - loss: 4.5638e-04 - mean_squared_error: 4.5638e-04 - mean_absolute_error: 0.0172\n",
      "Epoch 67/100\n",
      "6/6 [==============================] - 0s 2ms/step - loss: 3.0045e-04 - mean_squared_error: 3.0045e-04 - mean_absolute_error: 0.0143\n",
      "Epoch 68/100\n",
      "6/6 [==============================] - 0s 2ms/step - loss: 1.9071e-04 - mean_squared_error: 1.9071e-04 - mean_absolute_error: 0.0107\n",
      "Epoch 69/100\n",
      "6/6 [==============================] - 0s 2ms/step - loss: 1.4474e-04 - mean_squared_error: 1.4474e-04 - mean_absolute_error: 0.0097\n",
      "Epoch 70/100\n",
      "6/6 [==============================] - 0s 2ms/step - loss: 2.0095e-04 - mean_squared_error: 2.0095e-04 - mean_absolute_error: 0.0116\n",
      "Epoch 71/100\n",
      "6/6 [==============================] - 0s 2ms/step - loss: 1.7480e-04 - mean_squared_error: 1.7480e-04 - mean_absolute_error: 0.0106\n",
      "Epoch 72/100\n",
      "6/6 [==============================] - 0s 2ms/step - loss: 1.6946e-04 - mean_squared_error: 1.6946e-04 - mean_absolute_error: 0.0098\n",
      "Epoch 73/100\n",
      "6/6 [==============================] - 0s 2ms/step - loss: 1.6625e-04 - mean_squared_error: 1.6625e-04 - mean_absolute_error: 0.0105\n",
      "Epoch 74/100\n",
      "6/6 [==============================] - 0s 2ms/step - loss: 1.1861e-04 - mean_squared_error: 1.1861e-04 - mean_absolute_error: 0.0085\n",
      "Epoch 75/100\n",
      "6/6 [==============================] - 0s 2ms/step - loss: 1.3234e-04 - mean_squared_error: 1.3234e-04 - mean_absolute_error: 0.0093\n",
      "Epoch 76/100\n",
      "6/6 [==============================] - 0s 2ms/step - loss: 2.1403e-04 - mean_squared_error: 2.1403e-04 - mean_absolute_error: 0.0122\n",
      "Epoch 77/100\n",
      "6/6 [==============================] - 0s 2ms/step - loss: 2.7404e-04 - mean_squared_error: 2.7404e-04 - mean_absolute_error: 0.0144\n",
      "Epoch 78/100\n",
      "6/6 [==============================] - 0s 2ms/step - loss: 2.0042e-04 - mean_squared_error: 2.0042e-04 - mean_absolute_error: 0.0115\n",
      "Epoch 79/100\n",
      "6/6 [==============================] - 0s 2ms/step - loss: 1.4906e-04 - mean_squared_error: 1.4906e-04 - mean_absolute_error: 0.0102\n",
      "Epoch 80/100\n",
      "6/6 [==============================] - 0s 2ms/step - loss: 1.3099e-04 - mean_squared_error: 1.3099e-04 - mean_absolute_error: 0.0095\n",
      "Epoch 81/100\n",
      "6/6 [==============================] - 0s 2ms/step - loss: 1.3428e-04 - mean_squared_error: 1.3428e-04 - mean_absolute_error: 0.0088\n",
      "Epoch 82/100\n",
      "6/6 [==============================] - 0s 2ms/step - loss: 1.2076e-04 - mean_squared_error: 1.2076e-04 - mean_absolute_error: 0.0090\n",
      "Epoch 83/100\n",
      "6/6 [==============================] - 0s 2ms/step - loss: 1.0831e-04 - mean_squared_error: 1.0831e-04 - mean_absolute_error: 0.0082\n",
      "Epoch 84/100\n",
      "6/6 [==============================] - 0s 2ms/step - loss: 7.1043e-05 - mean_squared_error: 7.1043e-05 - mean_absolute_error: 0.0063\n",
      "Epoch 85/100\n",
      "6/6 [==============================] - 0s 2ms/step - loss: 6.8754e-05 - mean_squared_error: 6.8754e-05 - mean_absolute_error: 0.0063\n",
      "Epoch 86/100\n",
      "6/6 [==============================] - 0s 2ms/step - loss: 6.9494e-05 - mean_squared_error: 6.9494e-05 - mean_absolute_error: 0.0063\n",
      "Epoch 87/100\n",
      "6/6 [==============================] - 0s 2ms/step - loss: 1.3234e-04 - mean_squared_error: 1.3234e-04 - mean_absolute_error: 0.0090\n",
      "Epoch 88/100\n",
      "6/6 [==============================] - 0s 2ms/step - loss: 9.5826e-05 - mean_squared_error: 9.5826e-05 - mean_absolute_error: 0.0084\n",
      "Epoch 89/100\n",
      "6/6 [==============================] - 0s 2ms/step - loss: 9.3319e-05 - mean_squared_error: 9.3319e-05 - mean_absolute_error: 0.0078\n",
      "Epoch 90/100\n",
      "6/6 [==============================] - 0s 2ms/step - loss: 6.5702e-05 - mean_squared_error: 6.5702e-05 - mean_absolute_error: 0.0063\n",
      "Epoch 91/100\n",
      "6/6 [==============================] - 0s 2ms/step - loss: 6.3257e-05 - mean_squared_error: 6.3257e-05 - mean_absolute_error: 0.0060\n",
      "Epoch 92/100\n",
      "6/6 [==============================] - 0s 2ms/step - loss: 5.8658e-05 - mean_squared_error: 5.8658e-05 - mean_absolute_error: 0.0059\n",
      "Epoch 93/100\n",
      "6/6 [==============================] - 0s 2ms/step - loss: 5.4228e-05 - mean_squared_error: 5.4228e-05 - mean_absolute_error: 0.0056\n",
      "Epoch 94/100\n",
      "6/6 [==============================] - 0s 2ms/step - loss: 1.0243e-04 - mean_squared_error: 1.0243e-04 - mean_absolute_error: 0.0077\n",
      "Epoch 95/100\n",
      "6/6 [==============================] - 0s 2ms/step - loss: 1.1423e-04 - mean_squared_error: 1.1423e-04 - mean_absolute_error: 0.0084\n",
      "Epoch 96/100\n",
      "6/6 [==============================] - 0s 2ms/step - loss: 7.5794e-05 - mean_squared_error: 7.5794e-05 - mean_absolute_error: 0.0069\n",
      "Epoch 97/100\n",
      "6/6 [==============================] - 0s 2ms/step - loss: 9.9428e-05 - mean_squared_error: 9.9428e-05 - mean_absolute_error: 0.0079\n",
      "Epoch 98/100\n",
      "6/6 [==============================] - 0s 2ms/step - loss: 4.7697e-05 - mean_squared_error: 4.7697e-05 - mean_absolute_error: 0.0053\n",
      "Epoch 99/100\n",
      "6/6 [==============================] - 0s 2ms/step - loss: 5.6457e-05 - mean_squared_error: 5.6457e-05 - mean_absolute_error: 0.0058\n",
      "Epoch 100/100\n",
      "6/6 [==============================] - 0s 2ms/step - loss: 7.6582e-05 - mean_squared_error: 7.6582e-05 - mean_absolute_error: 0.0070\n"
     ]
    },
    {
     "data": {
      "text/plain": [
       "[<matplotlib.lines.Line2D at 0x7fdbb425c310>]"
      ]
     },
     "execution_count": 15,
     "metadata": {},
     "output_type": "execute_result"
    },
    {
     "data": {
      "image/png": "[encoded data removed]",
      "text/plain": [
       "<Figure size 432x288 with 1 Axes>"
      ]
     },
     "metadata": {
      "needs_background": "light"
     },
     "output_type": "display_data"
    }
   ],
   "source": [
    "# 使用一層LSTM層，訓練100個epoch，batch_size為16，畫train loss\n",
    "with tf.device('/gpu:0'):\n",
    "    history = regressor.fit(X_train, y_train, epochs = 100, batch_size = 16)\n",
    "    \n",
    "plt.title('train_loss')\n",
    "plt.ylabel('loss')\n",
    "plt.xlabel('Epoch')\n",
    "plt.plot( history.history[\"loss\"])"
   ]
  },
  {
   "cell_type": "markdown",
   "metadata": {},
   "source": [
    "# 以下使用訓練好的模型分別對訓練以及測試集做預測"
   ]
  },
  {
   "cell_type": "code",
   "execution_count": 16,
   "metadata": {},
   "outputs": [],
   "source": [
    "# Predict results on training data\n",
    "pred_train = regressor.predict(X_train)\n",
    "\n",
    "# Predict esults on test data\n",
    "pred_test = regressor.predict(X_test)"
   ]
  },
  {
   "cell_type": "markdown",
   "metadata": {},
   "source": [
    "# 列印出訓練集以及測試集的預測損失值"
   ]
  },
  {
   "cell_type": "code",
   "execution_count": 17,
   "metadata": {},
   "outputs": [
    {
     "name": "stdout",
     "output_type": "stream",
     "text": [
      "-------------------- Evaluation on Training Data --------------------\n",
      "Final loss : 7.658162212464958e-05\n",
      "Final mean_squared_error : 7.658162212464958e-05\n",
      "Final mean_absolute_error : 0.007038293872028589\n",
      "\n",
      "-------------------- Evaluation on Test Data --------------------\n",
      "1/1 [==============================] - 0s 875us/step - loss: 1.0547e-04 - mean_squared_error: 1.0547e-04 - mean_absolute_error: 0.0075\n",
      "\n"
     ]
    }
   ],
   "source": [
    "#Print the last value in the evaluation metrics contained within history file\n",
    "print('-------------------- Evaluation on Training Data --------------------')\n",
    "for item in history.history:\n",
    "    print(\"Final\", item, \":\", history.history[item][-1])\n",
    "print(\"\")\n",
    "\n",
    "#Evaluate the model on the test data using \"evaluate\"\n",
    "print('-------------------- Evaluation on Test Data --------------------')\n",
    "results = regressor.evaluate(X_test, np.reshape(y_test, (y_test.shape[0],1)))\n",
    "print(\"\")"
   ]
  },
  {
   "cell_type": "markdown",
   "metadata": {},
   "source": [
    "# 將上面印出的科學記號的loss值取四捨五入到小數後第四位"
   ]
  },
  {
   "cell_type": "code",
   "execution_count": 18,
   "metadata": {},
   "outputs": [
    {
     "name": "stdout",
     "output_type": "stream",
     "text": [
      "Training Data Evaluation\n",
      "0.0001\n",
      "0.0001\n",
      "0.007\n",
      "\n",
      "\n",
      "Test Data Evaluation\n",
      "0.0001\n",
      "0.0001\n",
      "0.0075\n"
     ]
    }
   ],
   "source": [
    "print('Training Data Evaluation')\n",
    "print(round(7.658162212464958e-05, 4))\n",
    "print(round(7.658162212464958e-05, 4))\n",
    "print(round(0.007038293872028589, 4))\n",
    "print('\\n')\n",
    "print('Test Data Evaluation')\n",
    "print(round(1.0547e-04, 4))\n",
    "print(round(1.0547e-04, 4))\n",
    "print(round(0.0075, 4))"
   ]
  },
  {
   "cell_type": "markdown",
   "metadata": {},
   "source": [
    "# 上面列印出的結果可以看出，訓練集以及測試集的 MSE 均方誤差是差不多的，而 MAE 平均絕對誤差則有些許差異，測試集明顯比訓練集的損失率多一些些，因為測試集明沒有拿進模型訓練，所以預測結果會比較有較大的差異，損失值自然也會比較高，是非常合理的"
   ]
  },
  {
   "cell_type": "code",
   "execution_count": null,
   "metadata": {},
   "outputs": [],
   "source": []
  },
  {
   "cell_type": "markdown",
   "metadata": {},
   "source": [
    "## 以下使用matplotlib套件將訓練集利用模型預測出的結果以及實際的值做出可視化圖表\n",
    "\n",
    "- 紅色的線為實際的值\n",
    "- 藍色的線為預測的值\n",
    "\n",
    "## 下圖可以看出，基本上藍線以及紅線基本上都是重合在一起的，代表模型對於訓練集預測出的結果是非常準確的"
   ]
  },
  {
   "cell_type": "code",
   "execution_count": 19,
   "metadata": {},
   "outputs": [
    {
     "data": {
      "image/png": "[encoded data removed]",
      "text/plain": [
       "<Figure size 432x288 with 1 Axes>"
      ]
     },
     "metadata": {
      "needs_background": "light"
     },
     "output_type": "display_data"
    }
   ],
   "source": [
    "# Visualising pred_train\n",
    "plt.plot(y_train, color = 'red', label = 'Real')  # train真實\n",
    "plt.plot(pred_train, color = 'blue', label = 'Predicted')  # train預測\n",
    "plt.title('Prediction_train')\n",
    "plt.xlabel('data')\n",
    "plt.ylabel('sum')\n",
    "plt.legend()\n",
    "plt.show()"
   ]
  },
  {
   "cell_type": "code",
   "execution_count": null,
   "metadata": {},
   "outputs": [],
   "source": []
  },
  {
   "cell_type": "markdown",
   "metadata": {},
   "source": [
    "## 以下使用matplotlib套件將測試集利用模型預測出的結果以及實際的值做出可視化圖表\n",
    "\n",
    "- 紅色的線為實際的值\n",
    "- 藍色的線為預測的值\n",
    "\n",
    "## 下圖可以看出，基本上藍線以及紅線大多重合在一起，少部分會有些許差異，代表模型對於測試集這個沒有訓練的資料預測出的結果有些許的失準，但是差異並沒有到很高，模型基本上還是非常準確的"
   ]
  },
  {
   "cell_type": "code",
   "execution_count": 20,
   "metadata": {},
   "outputs": [
    {
     "data": {
      "image/png": "[encoded data removed]",
      "text/plain": [
       "<Figure size 432x288 with 1 Axes>"
      ]
     },
     "metadata": {
      "needs_background": "light"
     },
     "output_type": "display_data"
    }
   ],
   "source": [
    "# Visualising pred_test\n",
    "plt.plot(y_test, color = 'red', label = 'Real')  # test真實\n",
    "plt.plot(pred_test, color = 'blue', label = 'Predicted')  # test預測\n",
    "plt.title('Prediction_test')\n",
    "plt.xlabel('data')\n",
    "plt.ylabel('sum')\n",
    "plt.legend()\n",
    "plt.show()"
   ]
  }
 ],
 "metadata": {
  "kernelspec": {
   "display_name": "Python 3",
   "language": "python",
   "name": "python3"
  },
  "language_info": {
   "codemirror_mode": {
    "name": "ipython",
    "version": 3
   },
   "file_extension": ".py",
   "mimetype": "text/x-python",
   "name": "python",
   "nbconvert_exporter": "python",
   "pygments_lexer": "ipython3",
   "version": "3.7.9"
  }
 },
 "nbformat": 4,
 "nbformat_minor": 5
}
